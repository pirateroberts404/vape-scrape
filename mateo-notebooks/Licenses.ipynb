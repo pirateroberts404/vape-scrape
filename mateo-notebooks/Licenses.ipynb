{
 "cells": [
  {
   "cell_type": "code",
   "execution_count": 1,
   "metadata": {},
   "outputs": [],
   "source": [
    "import requests\n",
    "import json\n",
    "import pandas as pd\n",
    "from pandas.io.json import json_normalize\n",
    "import os\n",
    "import glob\n",
    "from bs4 import BeautifulSoup\n",
    "from urllib.request import urlopen\n",
    "from lxml import html\n",
    "import sqlite3\n",
    "import time"
   ]
  },
  {
   "cell_type": "markdown",
   "metadata": {},
   "source": [
    "https://docs.python-guide.org/scenarios/scrape/"
   ]
  },
  {
   "cell_type": "code",
   "execution_count": 3,
   "metadata": {
    "collapsed": true
   },
   "outputs": [],
   "source": [
    "def sleep_time(base = 1, tolerance = 1):\n",
    "    choose = np.random.uniform(0, 1)\n",
    "    \n",
    "    if 0 <= choose <= 0.9:\n",
    "        return np.random.uniform(base, base + tolerance)\n",
    "    if 0.9 < choose <= 0.99:\n",
    "        return np.random.uniform((base + tolerance) * 2, (base + tolerance) * 3)\n",
    "    else:\n",
    "        return np.random.uniform((base + tolerance) * 6, (base + tolerance) * 7)"
   ]
  },
  {
   "cell_type": "code",
   "execution_count": 4,
   "metadata": {},
   "outputs": [
    {
     "ename": "IndentationError",
     "evalue": "unexpected indent (<ipython-input-4-b420fa6f3d28>, line 23)",
     "output_type": "error",
     "traceback": [
      "\u001b[0;36m  File \u001b[0;32m\"<ipython-input-4-b420fa6f3d28>\"\u001b[0;36m, line \u001b[0;32m23\u001b[0m\n\u001b[0;31m    page = requests.get(web_url)\u001b[0m\n\u001b[0m    ^\u001b[0m\n\u001b[0;31mIndentationError\u001b[0m\u001b[0;31m:\u001b[0m unexpected indent\n"
     ]
    }
   ],
   "source": [
    "def get_urls():\n",
    "    '''\n",
    "    Connects to the weedMaps database and queries for the web_urls.\n",
    "    Returns a list of web_urls.\n",
    "    '''\n",
    "    conn = sqlite3.connect('..//data//weedmaps.db')\n",
    "    conn.row_factory = sqlite3.Row\n",
    "    cursor = conn.cursor()\n",
    "    cursor.execute(\"SELECT web_url FROM store;\")\n",
    "\n",
    "    urls = []\n",
    "    for row in cursor:\n",
    "        urls.append(row[0])\n",
    "    \n",
    "    conn.close()\n",
    "    return urls\n",
    "\n",
    "def get_license_url(web_url):\n",
    "    '''\n",
    "    Takes the web_url of a specific dispensary and returns the license numbers and names.\n",
    "    '''\n",
    "    try:\n",
    "        page = requests.get(web_url)\n",
    "        tree = html.fromstring(page.content)\n",
    "        license = tree.xpath('//*[@id=\"collapsible-container\"]/div[1]/div[1]/ul/li/text()[3]')\n",
    "        license_name = tree.xpath('//*[@id=\"collapsible-container\"]/div[1]/div[1]/ul/li/text()[1]')\n",
    "        return license, license_name\n",
    "        \n",
    "    except:\n",
    "        print (\"Could not access: \" + web_url)\n",
    "        \n",
    "def get_licenses():\n",
    "    urls = get_urls()\n",
    "    licenses = []\n",
    "    license_names\n",
    "    for url in urls:\n",
    "        license, license_name = get_license_url(url)\n",
    "        license.append()\n",
    "        \n",
    "    return licenses\n"
   ]
  },
  {
   "cell_type": "code",
   "execution_count": 8,
   "metadata": {},
   "outputs": [
    {
     "data": {
      "text/plain": [
       "(['C10-18-0000178-TEMP'], ['Medical Retail'])"
      ]
     },
     "execution_count": 8,
     "metadata": {},
     "output_type": "execute_result"
    }
   ],
   "source": [
    "page = requests.get(\"https://weedmaps.com/dispensaries/the-crop\")\n",
    "tree = html.fromstring(page.content)\n",
    "\n",
    "license = tree.xpath('//*[@id=\"collapsible-container\"]/div[1]/div[1]/ul/li/text()[3]')\n",
    "license_name = tree.xpath('//*[@id=\"collapsible-container\"]/div[1]/div[1]/ul/li/text()[1]')\n",
    "license, license_name"
   ]
  },
  {
   "cell_type": "code",
   "execution_count": 9,
   "metadata": {},
   "outputs": [
    {
     "data": {
      "text/plain": [
       "(['M-10-18-0000363-TEMP', 'M10-18-0000363-TEMP'],\n",
       " ['Adult-Use Retail', 'Medical Retail'])"
      ]
     },
     "execution_count": 9,
     "metadata": {},
     "output_type": "execute_result"
    }
   ],
   "source": [
    "page = requests.get(\"https://weedmaps.com/dispensaries/natural-healing-center\")\n",
    "tree = html.fromstring(page.content)\n",
    "\n",
    "license = tree.xpath('//*[@id=\"collapsible-container\"]/div[1]/div[1]/ul/li/text()[3]')\n",
    "license_name = tree.xpath('//*[@id=\"collapsible-container\"]/div[1]/div[1]/ul/li/text()[1]')\n",
    "license, license_name"
   ]
  },
  {
   "cell_type": "code",
   "execution_count": 10,
   "metadata": {},
   "outputs": [
    {
     "data": {
      "text/plain": [
       "(['M10-18-0000346-TEMP'], ['Adult-Use Retail'])"
      ]
     },
     "execution_count": 10,
     "metadata": {},
     "output_type": "execute_result"
    }
   ],
   "source": [
    "page = requests.get(\"https://weedmaps.com/dispensaries/805-beach-breaks\")\n",
    "tree = html.fromstring(page.content)\n",
    "\n",
    "license = tree.xpath('//*[@id=\"collapsible-container\"]/div[1]/div[1]/ul/li/text()[3]')\n",
    "license_name = tree.xpath('//*[@id=\"collapsible-container\"]/div[1]/div[1]/ul/li/text()[1]')\n",
    "license, license_name"
   ]
  },
  {
   "cell_type": "code",
   "execution_count": 11,
   "metadata": {},
   "outputs": [
    {
     "data": {
      "text/plain": [
       "([], [])"
      ]
     },
     "execution_count": 11,
     "metadata": {},
     "output_type": "execute_result"
    }
   ],
   "source": [
    "## No licenses\n",
    "page = requests.get(\"https://weedmaps.com/deliveries/cloud-9-collective-san-luis-obispo\")\n",
    "tree = html.fromstring(page.content)\n",
    "\n",
    "license = tree.xpath('//*[@id=\"collapsible-container\"]/div[1]/div[1]/ul/li/text()[3]')\n",
    "license_name = tree.xpath('//*[@id=\"collapsible-container\"]/div[1]/div[1]/ul/li/text()[1]')\n",
    "license, license_name"
   ]
  },
  {
   "cell_type": "code",
   "execution_count": 26,
   "metadata": {},
   "outputs": [
    {
     "data": {
      "text/plain": [
       "[]"
      ]
     },
     "execution_count": 26,
     "metadata": {},
     "output_type": "execute_result"
    }
   ],
   "source": [
    "page = requests.get('https://weedmaps.com/deliveries/cloud-9-collective-san-luis-obispo')\n",
    "tree = html.fromstring(page.content)\n",
    "phone = tree.xpath('//*[@id=\"collapsible-container\"]/div[1]/div[1]/div[1]/ul/li[1]/a/href/')"
   ]
  },
  {
   "cell_type": "code",
   "execution_count": null,
   "metadata": {
    "collapsed": true
   },
   "outputs": [],
   "source": []
  }
 ],
 "metadata": {
  "kernelspec": {
   "display_name": "Python 3",
   "language": "python",
   "name": "python3"
  },
  "language_info": {
   "codemirror_mode": {
    "name": "ipython",
    "version": 3
   },
   "file_extension": ".py",
   "mimetype": "text/x-python",
   "name": "python",
   "nbconvert_exporter": "python",
   "pygments_lexer": "ipython3",
   "version": "3.6.3"
  }
 },
 "nbformat": 4,
 "nbformat_minor": 2
}
