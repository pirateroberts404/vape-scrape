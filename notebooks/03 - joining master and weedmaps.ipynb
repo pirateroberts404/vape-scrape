{
 "cells": [
  {
   "cell_type": "code",
   "execution_count": 17,
   "metadata": {},
   "outputs": [],
   "source": [
    "import pandas as pd\n",
    "from collections import Counter\n",
    "import numpy as np\n",
    "import glob\n",
    "import re\n",
    "import json"
   ]
  },
  {
   "cell_type": "code",
   "execution_count": 18,
   "metadata": {},
   "outputs": [],
   "source": [
    "licenses = pd.read_csv(\"..//data//searchResultsRetailers.csv\")\n",
    "weedmaps_not_joined = pd.read_csv(\"..//data//store.csv\")\n",
    "check_cols = [\"adult_use_cultivation\", \"adult_use_nonstorefront\", \n",
    "              \"adult_use_retail\", \"distributor\", \"medical_cultivation\", \n",
    "              \"medical_nonstorefront\", \"medical_retail\", \"microbusiness\"]"
   ]
  },
  {
   "cell_type": "code",
   "execution_count": 19,
   "metadata": {},
   "outputs": [
    {
     "data": {
      "text/plain": [
       "Counter({'Cannabis - Retailer Temporary License': 627,\n",
       "         'Cannabis - Retailer Nonstorefront Temporary License': 315})"
      ]
     },
     "execution_count": 19,
     "metadata": {},
     "output_type": "execute_result"
    }
   ],
   "source": [
    "Counter(licenses[\"License Type\"])"
   ]
  },
  {
   "cell_type": "code",
   "execution_count": 20,
   "metadata": {},
   "outputs": [
    {
     "data": {
      "text/plain": [
       "(0, 25)"
      ]
     },
     "execution_count": 20,
     "metadata": {},
     "output_type": "execute_result"
    }
   ],
   "source": [
    "weedmaps_not_joined.shape"
   ]
  },
  {
   "cell_type": "markdown",
   "metadata": {},
   "source": [
    "## replace hyphens with nothing"
   ]
  },
  {
   "cell_type": "code",
   "execution_count": 5,
   "metadata": {},
   "outputs": [],
   "source": [
    "licenses['License Number'] = licenses['License Number'].str.replace('-', '')\n",
    "\n",
    "for col in check_cols:\n",
    "    if weedmaps_not_joined[col].dtype != \"float\":\n",
    "        weedmaps_not_joined[col] = weedmaps_not_joined[col].str.upper()\n",
    "        weedmaps_not_joined[col] = weedmaps_not_joined[col].str.replace('-', '')"
   ]
  },
  {
   "cell_type": "markdown",
   "metadata": {},
   "source": [
    "## Explore join statistics\n"
   ]
  },
  {
   "cell_type": "code",
   "execution_count": 6,
   "metadata": {},
   "outputs": [
    {
     "name": "stdout",
     "output_type": "stream",
     "text": [
      "failed adult_use_cultivation\n",
      "216 adult_use_nonstorefront\n",
      "Cannabis - Retailer Nonstorefront Temporary License 169\n",
      "Cannabis - Retailer Temporary License 47\n",
      "\n",
      "152 adult_use_retail\n",
      "Cannabis - Retailer Temporary License 146\n",
      "Cannabis - Retailer Nonstorefront Temporary License 6\n",
      "\n",
      "0 distributor\n",
      "\n",
      "failed medical_cultivation\n",
      "95 medical_nonstorefront\n",
      "Cannabis - Retailer Nonstorefront Temporary License 90\n",
      "Cannabis - Retailer Temporary License 5\n",
      "\n",
      "69 medical_retail\n",
      "Cannabis - Retailer Temporary License 65\n",
      "Cannabis - Retailer Nonstorefront Temporary License 4\n",
      "\n",
      "0 microbusiness\n",
      "\n"
     ]
    }
   ],
   "source": [
    "for i in check_cols:\n",
    "    try:\n",
    "        merge = pd.merge(weedmaps_not_joined, \n",
    "                         licenses, \n",
    "                         left_on = i,\n",
    "                         right_on = \"License Number\",\n",
    "                         how = \"outer\",\n",
    "                         indicator = True\n",
    "        )\n",
    "        print(Counter(merge[\"_merge\"])[\"both\"], i)\n",
    "        stats = Counter(merge[merge[\"_merge\"] == 'both'][\"License Type\"])\n",
    "        for x in stats:\n",
    "            print(x, stats[x])\n",
    "        print()\n",
    "    except:\n",
    "        print(\"failed\", i)"
   ]
  },
  {
   "cell_type": "markdown",
   "metadata": {},
   "source": [
    "\n",
    "| . | Adult use cultivation | Adult use nonstorefront | Adult use retail | Distributor | medical cultivation | medical nonstorefront | medical retail | microbusiness |\n",
    "|---|---|---|---|---|---|---|---|---|\n",
    "|retailer nonstorefront temp | 0 | 183 | 7 | 0 | 0 | 105 | 4 | 0 |\n",
    "retailer temporary | 0 | 40 | 166 | 0 | 0 | 5 | 71 | 0\n",
    "retailer | 0 | 0 | 6 | 0 | 0 | 0 | 6 | 0\n",
    "microbusiness temporary | 0 | 0 | 4 | 0 | 0 | 0 | 1 | 25 |\n",
    "distributor temporary | 0 | 40 | 1 | 1 | 0 | 5 | 1 | 0 |\n"
   ]
  },
  {
   "cell_type": "markdown",
   "metadata": {},
   "source": [
    "## Actual join"
   ]
  },
  {
   "cell_type": "code",
   "execution_count": 7,
   "metadata": {
    "scrolled": true
   },
   "outputs": [
    {
     "name": "stdout",
     "output_type": "stream",
     "text": [
      "none for adult_use_cultivation\n",
      "joined: 216  on: adult_use_nonstorefront\n",
      "joined: 152  on: adult_use_retail\n",
      "joined: 0  on: distributor\n",
      "none for medical_cultivation\n",
      "joined: 95  on: medical_nonstorefront\n",
      "joined: 69  on: medical_retail\n",
      "joined: 0  on: microbusiness\n"
     ]
    }
   ],
   "source": [
    "'''\n",
    "Creates a new dataframe (weedmaps_joined) which contains the joins of weedmaps stores\n",
    "that had a license number in the licenses dataframe. The license numbers are joined in \n",
    "the order that they appear on check_cols.\n",
    "\n",
    "Create another dataframe (weedmaps_not_joined) which contains all the weedmap stores that\n",
    "had licenses that could not be joined to the licenses dataframe. \n",
    "'''\n",
    "\n",
    "#weedmaps_not_joined = weedmaps\n",
    "licenses_joined = pd.DataFrame()\n",
    "licenses_not_joined = licenses.copy()\n",
    "c = 0\n",
    "for i in check_cols:\n",
    "    try:\n",
    "        join_on_i = pd.merge(weedmaps_not_joined, licenses, left_on = i, right_on = 'License Number', how = 'inner')\n",
    "        print (\"joined:\", join_on_i.shape[0], ' on:', i)\n",
    "        c += join_on_i.shape[0]\n",
    "        \n",
    "        licenses_not_joined = licenses_not_joined[~licenses_not_joined[\"License Number\"].isin(join_on_i[\"License Number\"])]\n",
    "        #weedmaps_not_joined = weedmaps_not_joined[~weedmaps_not_joined[i].isin(join_on_i['License Number'])]\n",
    "        licenses_joined = pd.concat([licenses_joined, join_on_i])\n",
    "        \n",
    "        \n",
    "    except:\n",
    "        print(\"none for\",i)\n",
    "\n"
   ]
  },
  {
   "cell_type": "code",
   "execution_count": 8,
   "metadata": {},
   "outputs": [],
   "source": [
    "latent_data_structure = {}\n",
    "for license in licenses_joined[\"License Number\"].unique():\n",
    "    latent_data_structure.update({license: licenses_joined[licenses_joined[\"License Number\"] == license].id.tolist()})\n",
    "    \n",
    "for license in licenses_not_joined[\"License Number\"].unique():\n",
    "    if licenses_not_joined[licenses_not_joined[\"License Number\"] == license][\"License Type\"].iloc[0] in ['Cannabis - Retailer Temporary License', 'Cannabis - Retailer Nonstorefront Temporary License']:\n",
    "        latent_data_structure.update({license: []})"
   ]
  },
  {
   "cell_type": "code",
   "execution_count": 9,
   "metadata": {},
   "outputs": [],
   "source": [
    "with open(\"..//data//latent.json\", \"w\") as f:\n",
    "    json.dump(latent_data_structure, f)"
   ]
  },
  {
   "cell_type": "code",
   "execution_count": 10,
   "metadata": {},
   "outputs": [
    {
     "data": {
      "text/plain": [
       "220"
      ]
     },
     "execution_count": 10,
     "metadata": {},
     "output_type": "execute_result"
    }
   ],
   "source": [
    "len(licenses_joined[\"License Number\"].unique())"
   ]
  },
  {
   "cell_type": "code",
   "execution_count": 15,
   "metadata": {},
   "outputs": [
    {
     "data": {
      "text/plain": [
       "722"
      ]
     },
     "execution_count": 15,
     "metadata": {},
     "output_type": "execute_result"
    }
   ],
   "source": [
    "len(licenses_not_joined[\"License Number\"].unique())"
   ]
  },
  {
   "cell_type": "code",
   "execution_count": 16,
   "metadata": {},
   "outputs": [
    {
     "data": {
      "text/plain": [
       "942"
      ]
     },
     "execution_count": 16,
     "metadata": {},
     "output_type": "execute_result"
    }
   ],
   "source": [
    "len(licenses[\"License Number\"].unique())"
   ]
  },
  {
   "cell_type": "code",
   "execution_count": 41,
   "metadata": {},
   "outputs": [],
   "source": [
    "licenses_not_joined.phone = licenses_not_joined.phone.astype(np.int64, errors = \"ignore\")\n",
    "#licenses_not_joined = licenses_not_joined.reset_index(drop = True)\n",
    "#licenses_not_joined[\"master_index\"] = licenses_not_joined.index\n",
    "licenses_not_joined.to_csv(\"..//data//licenses_not_joined.csv\", index = False)\n",
    "\n",
    "#licenses_joined.phone = licenses_joined.phone.astype(np.int64, errors = \"ignore\")\n",
    "licenses_joined.to_csv('..//data//licenses_joined.csv', index = False)"
   ]
  },
  {
   "cell_type": "code",
   "execution_count": 42,
   "metadata": {},
   "outputs": [
    {
     "data": {
      "text/html": [
       "<div>\n",
       "<style scoped>\n",
       "    .dataframe tbody tr th:only-of-type {\n",
       "        vertical-align: middle;\n",
       "    }\n",
       "\n",
       "    .dataframe tbody tr th {\n",
       "        vertical-align: top;\n",
       "    }\n",
       "\n",
       "    .dataframe thead th {\n",
       "        text-align: right;\n",
       "    }\n",
       "</style>\n",
       "<table border=\"1\" class=\"dataframe\">\n",
       "  <thead>\n",
       "    <tr style=\"text-align: right;\">\n",
       "      <th>Adult-Use/Medicinal</th>\n",
       "      <th>Adult-Use</th>\n",
       "      <th>BOTH</th>\n",
       "      <th>Medicinal</th>\n",
       "    </tr>\n",
       "    <tr>\n",
       "      <th>license_type</th>\n",
       "      <th></th>\n",
       "      <th></th>\n",
       "      <th></th>\n",
       "    </tr>\n",
       "  </thead>\n",
       "  <tbody>\n",
       "    <tr>\n",
       "      <th>hybrid</th>\n",
       "      <td>28</td>\n",
       "      <td>475</td>\n",
       "      <td>2</td>\n",
       "    </tr>\n",
       "    <tr>\n",
       "      <th>medical</th>\n",
       "      <td>5</td>\n",
       "      <td>56</td>\n",
       "      <td>28</td>\n",
       "    </tr>\n",
       "    <tr>\n",
       "      <th>recreational</th>\n",
       "      <td>15</td>\n",
       "      <td>33</td>\n",
       "      <td>0</td>\n",
       "    </tr>\n",
       "  </tbody>\n",
       "</table>\n",
       "</div>"
      ],
      "text/plain": [
       "Adult-Use/Medicinal  Adult-Use  BOTH  Medicinal\n",
       "license_type                                   \n",
       "hybrid                      28   475          2\n",
       "medical                      5    56         28\n",
       "recreational                15    33          0"
      ]
     },
     "execution_count": 42,
     "metadata": {},
     "output_type": "execute_result"
    }
   ],
   "source": [
    "pd.crosstab(licenses_joined[\"license_type\"], licenses_joined[\"Adult-Use/Medicinal\"])"
   ]
  },
  {
   "cell_type": "code",
   "execution_count": 43,
   "metadata": {},
   "outputs": [
    {
     "data": {
      "text/plain": [
       "651"
      ]
     },
     "execution_count": 43,
     "metadata": {},
     "output_type": "execute_result"
    }
   ],
   "source": [
    "c"
   ]
  },
  {
   "cell_type": "code",
   "execution_count": null,
   "metadata": {},
   "outputs": [],
   "source": []
  }
 ],
 "metadata": {
  "kernelspec": {
   "display_name": "Python 3",
   "language": "python",
   "name": "python3"
  },
  "language_info": {
   "codemirror_mode": {
    "name": "ipython",
    "version": 3
   },
   "file_extension": ".py",
   "mimetype": "text/x-python",
   "name": "python",
   "nbconvert_exporter": "python",
   "pygments_lexer": "ipython3",
   "version": "3.6.0"
  }
 },
 "nbformat": 4,
 "nbformat_minor": 2
}
