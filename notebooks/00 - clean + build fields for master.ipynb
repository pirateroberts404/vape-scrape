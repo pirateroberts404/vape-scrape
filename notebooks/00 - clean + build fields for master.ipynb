{
 "cells": [
  {
   "cell_type": "code",
   "execution_count": 1,
   "metadata": {},
   "outputs": [],
   "source": [
    "import pandas as pd\n",
    "import numpy as np\n",
    "import re\n",
    "import nltk\n",
    "import json"
   ]
  },
  {
   "cell_type": "code",
   "execution_count": 2,
   "metadata": {},
   "outputs": [],
   "source": [
    "master_list = pd.read_csv(\"..//data/searchResults.csv\")"
   ]
  },
  {
   "cell_type": "markdown",
   "metadata": {},
   "source": [
    "## Remove extra rows\n"
   ]
  },
  {
   "cell_type": "code",
   "execution_count": 3,
   "metadata": {},
   "outputs": [],
   "source": [
    "def find_bad_row(row, col, term):\n",
    "    if re.search(term, row[col], flags = re.I) is not None:\n",
    "        return True\n",
    "    return False"
   ]
  },
  {
   "cell_type": "code",
   "execution_count": 4,
   "metadata": {},
   "outputs": [],
   "source": [
    "bad_indexes = master_list.apply(lambda row: find_bad_row(row, \"License Number\", \"license number\"), axis = 1)\n",
    "master_list = master_list[~bad_indexes].reset_index(drop = True)"
   ]
  },
  {
   "cell_type": "markdown",
   "metadata": {},
   "source": [
    "## Add extra fields"
   ]
  },
  {
   "cell_type": "code",
   "execution_count": 5,
   "metadata": {},
   "outputs": [],
   "source": [
    "def break_fields(row, col, string):\n",
    "    if pd.isnull(row[col]):\n",
    "        return \"\"\n",
    "    \n",
    "    test = re.search(string, row[col], flags = re.I)\n",
    "    if test != None:\n",
    "        return test.group()\n",
    "    \n",
    "    return \"\"\n",
    "\n",
    "def get_city(row, col):\n",
    "    street_abbrev = [\" w \", \" blvd \", \" st \", \" rd \", \" pkwy \", \" ave \", \n",
    "                     \" ctr \", \" cir \", \" ct \", \" dr \", \" ln \", \" lk \", \n",
    "                     \" lp \", \" pl \", \" sq \", \" tr \", \" e \", \" n \", \" s \", \n",
    "                     \" hwy \", \" way \", \" wy \", ]\n",
    "    fix = {\"[0-9]\": \"\", \"\\s+\": \" \", \"san fran\": \"san francisco\", \"avenue\": \"\", \"highway\": \"\"}\n",
    "    if pd.isnull(row[col]):\n",
    "        return \"\"\n",
    "    \n",
    "    left_limit = 0\n",
    "    check_list = []\n",
    "    for i in street_abbrev:\n",
    "        street = re.search(i, row[col], flags = re.I)\n",
    "        if street != None:  \n",
    "            check_list.append(street.end())\n",
    "        else:\n",
    "            check_list.append(0)\n",
    "    left_limit = max(check_list)\n",
    "    \n",
    "    right_limit = re.search(\", \", row[col], flags = re.I)\n",
    "    if right_limit != None:\n",
    "        right_limit = right_limit.start()\n",
    "        \n",
    "    tmp = row[col][left_limit: right_limit].strip()\n",
    "    \n",
    "    for i in fix:\n",
    "        tmp = re.sub(i, fix[i], tmp, flags = re.I)\n",
    "        \n",
    "    return tmp.strip()\n",
    "\n",
    "def get_city(row, col):\n",
    "    street_abbrev = [\" w \", \" blvd \", \" st \", \" rd \", \" pkwy \", \" ave \", \n",
    "                     \" ctr \", \" cir \", \" ct \", \" dr \", \" ln \", \" lk \", \n",
    "                     \" lp \", \" pl \", \" sq \", \" tr \", \" e \", \" n \", \" s \", \n",
    "                     \" hwy \", \" way \", \" wy \", ]\n",
    "    fix = {\"[0-9]\": \"\", \"\\s+\": \" \", \"san fran\": \"san francisco\", \"avenue\": \"\", \"highway\": \"\", \"san franciscocisco\": \"san francisco\"}\n",
    "    if pd.isnull(row[col]):\n",
    "        return \"\"\n",
    "    \n",
    "    left_limit = 0\n",
    "    check_list = []\n",
    "    for i in street_abbrev:\n",
    "        street = re.search(i, row[col], flags = re.I)\n",
    "        if street != None:  \n",
    "            check_list.append(street.end())\n",
    "        else:\n",
    "            check_list.append(0)\n",
    "    left_limit = max(check_list)\n",
    "    \n",
    "    right_limit = re.search(\", \", row[col], flags = re.I)\n",
    "    if right_limit != None:\n",
    "        right_limit = right_limit.start()\n",
    "        \n",
    "    tmp = row[col][left_limit: right_limit].strip()\n",
    "    \n",
    "    for i in fix:\n",
    "        tmp = re.sub(i, fix[i], tmp, flags = re.I)\n",
    "        \n",
    "    return tmp.strip()\n",
    "\n",
    "def get_email(row, col):\n",
    "    replace = {\"email\": \"\", \"Email\": \"\", \"-\": \"\"}\n",
    "    if pd.isnull(row[col]):\n",
    "        return \"\"\n",
    "    check = re.search(\"email.{,1}?-.+?@.+?\\s\", row[col], flags = re.I)\n",
    "    \n",
    "    if check is not None:\n",
    "        check = check.group()\n",
    "        for i in replace:\n",
    "            check = check.replace(i, replace[i])\n",
    "        return check.strip()\n",
    "    \n",
    "    return \"\"\n",
    "\n",
    "def get_website(row, col):\n",
    "    if pd.isnull(row[col]):\n",
    "        return \"\"\n",
    "    check = re.search(\"website-\", row[col], flags = re.I)\n",
    "    \n",
    "    if check is not None:\n",
    "        check = row[col][check.end():]\n",
    "        return check.strip()\n",
    "    \n",
    "    return \"\"\n",
    "\n",
    "def get_name(row, col):\n",
    "    if pd.isnull(row[col]):\n",
    "        return \"\"\n",
    "    check = re.search(\":\", row[col], flags = re.I)\n",
    "    \n",
    "    if check is not None:\n",
    "        check = row[col][:check.end() - 1]\n",
    "        return check.strip()\n",
    "    \n",
    "    return \"\"\n",
    "\n",
    "def get_phone(row, col):\n",
    "    if pd.isnull(row[col]):\n",
    "        return \"\"\n",
    "    \n",
    "    check = re.search(\"phone-.+?\\s\", row[col], flags = re.I)\n",
    "    #print(check)\n",
    "    \n",
    "    if check is not None:\n",
    "        check = re.sub(\"-|:|\\(|\\)|phone\", \"\", check.group(), flags = re.I)\n",
    "        return check.strip()\n",
    "        \n",
    "    return \"\""
   ]
  },
  {
   "cell_type": "code",
   "execution_count": 6,
   "metadata": {},
   "outputs": [],
   "source": [
    "master_list[\"zip_code\"] = master_list.apply(lambda row: break_fields(row, \"Premise Address\", \"([0-9]{5})|([0-9]{9})\"), axis = 1)\n",
    "master_list[\"city\"] = master_list.apply(lambda row: get_city(row, \"Premise Address\"), axis = 1).str.lower()\n",
    "master_list[\"email\"] = master_list.apply(lambda row: get_email(row, \"Business Contact Information\"), axis = 1).str.lower()\n",
    "master_list[\"website\"] = master_list.apply(lambda row: get_website(row, \"Business Contact Information\"), axis = 1).str.lower()\n",
    "master_list[\"company_name\"] = master_list.apply(lambda row: get_name(row, \"Business Contact Information\"), axis = 1).str.lower()\n",
    "master_list[\"phone\"] = master_list.apply(lambda row: get_phone(row, \"Business Contact Information\"), axis = 1).astype(str)\n",
    "master_list[\"License_no_dash\"] = master_list[\"License Number\"].str.replace(\"-\", \"\")\n",
    "#master_list[\"master_index\"] = master_list.index"
   ]
  },
  {
   "cell_type": "code",
   "execution_count": 7,
   "metadata": {},
   "outputs": [],
   "source": [
    "master_list.to_csv(\"..//data/searchResultsClean.csv\", index = False)"
   ]
  },
  {
   "cell_type": "code",
   "execution_count": 14,
   "metadata": {},
   "outputs": [],
   "source": [
    "retailers = master_list[master_list[\"License Type\"].isin([\"Cannabis - Retailer Temporary License\", \"Cannabis - Retailer Nonstorefront Temporary License\"])]"
   ]
  },
  {
   "cell_type": "code",
   "execution_count": 12,
   "metadata": {},
   "outputs": [],
   "source": [
    "from collections import Counter"
   ]
  },
  {
   "cell_type": "code",
   "execution_count": 15,
   "metadata": {},
   "outputs": [
    {
     "data": {
      "text/plain": [
       "Counter({'Active': 942, 'Canceled': 74, 'Expired': 149, 'Revoked': 3})"
      ]
     },
     "execution_count": 15,
     "metadata": {},
     "output_type": "execute_result"
    }
   ],
   "source": []
  },
  {
   "cell_type": "code",
   "execution_count": 17,
   "metadata": {},
   "outputs": [],
   "source": [
    "retailers = retailers[retailers.Status == \"Active\"]"
   ]
  },
  {
   "cell_type": "code",
   "execution_count": 19,
   "metadata": {},
   "outputs": [],
   "source": [
    "retailers.to_csv(\"..//data/searchResultsRetailers.csv\", index = False)"
   ]
  }
 ],
 "metadata": {
  "kernelspec": {
   "display_name": "Python 3",
   "language": "python",
   "name": "python3"
  },
  "language_info": {
   "codemirror_mode": {
    "name": "ipython",
    "version": 3
   },
   "file_extension": ".py",
   "mimetype": "text/x-python",
   "name": "python",
   "nbconvert_exporter": "python",
   "pygments_lexer": "ipython3",
   "version": "3.6.0"
  }
 },
 "nbformat": 4,
 "nbformat_minor": 2
}
