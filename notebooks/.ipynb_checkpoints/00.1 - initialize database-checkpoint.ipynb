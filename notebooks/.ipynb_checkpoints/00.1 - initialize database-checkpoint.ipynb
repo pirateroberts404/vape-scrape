{
 "cells": [
  {
   "cell_type": "code",
   "execution_count": null,
   "metadata": {},
   "outputs": [],
   "source": [
    "import sqlite3\n",
    "\n",
    "conn = sqlite3.connect(\"..//data//weedmaps.db\")\n",
    "c = conn.cursor()\n",
    "\n",
    "c.execute(\"\"\"\n",
    "DROP TABLE store;\n",
    "\"\"\")\n",
    "\n",
    "c.execute(\"\"\"\n",
    "DROP TABLE strain;\n",
    "\"\"\")\n",
    "\n",
    "c.execute(\"\"\"\n",
    "CREATE TABLE store (\n",
    "    id INT UNIQUE, name TEXT, state TEXT, city TEXT, latitude REAL, longitude REAL,\n",
    "    license_type TEXT, address TEXT, rating REAL, reviews_count INT,\n",
    "    zip_code TEXT, web_url TEXT, retailer_services TEXT, phone TEXT, email TEXT, website TEXT,\n",
    "    adult_use_cultivation TEXT, adult_use_nonstorefront TEXT,\n",
    "    adult_use_retail TEXT, distributor TEXT, medical_cultivation TEXT,\n",
    "    medical_nonstorefront TEXT, medical_retail TEXT, microbusiness TEXT\n",
    ");\n",
    "\"\"\")\n",
    "\n",
    "c.execute(\"\"\"\n",
    "CREATE TABLE strain (\n",
    "    id INT, name TEXT, strain TEXT, price REAL, \n",
    "    amount TEXT, unit TEXT, grams_per_eighth REAL\n",
    ");\n",
    "\"\"\")\n",
    "\n",
    "conn.commit()\n",
    "conn.close()"
   ]
  }
 ],
 "metadata": {
  "kernelspec": {
   "display_name": "Python 3",
   "language": "python",
   "name": "python3"
  },
  "language_info": {
   "codemirror_mode": {
    "name": "ipython",
    "version": 3
   },
   "file_extension": ".py",
   "mimetype": "text/x-python",
   "name": "python",
   "nbconvert_exporter": "python",
   "pygments_lexer": "ipython3",
   "version": "3.6.0"
  }
 },
 "nbformat": 4,
 "nbformat_minor": 2
}
