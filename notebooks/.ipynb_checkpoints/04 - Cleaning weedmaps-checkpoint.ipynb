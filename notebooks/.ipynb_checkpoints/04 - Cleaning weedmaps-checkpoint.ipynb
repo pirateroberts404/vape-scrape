{
 "cells": [
  {
   "cell_type": "code",
   "execution_count": 1,
   "metadata": {},
   "outputs": [],
   "source": [
    "import pandas as pd\n",
    "import numpy as np\n",
    "import re"
   ]
  },
  {
   "cell_type": "code",
   "execution_count": 2,
   "metadata": {},
   "outputs": [],
   "source": [
    "weedmaps = pd.read_csv(\"..//data//store.csv\")"
   ]
  },
  {
   "cell_type": "code",
   "execution_count": 3,
   "metadata": {},
   "outputs": [],
   "source": [
    "def remove_symbol(row, col, left, right):\n",
    "    if pd.isnull(row[col]):\n",
    "        return \"\"\n",
    "    return re.sub(left, right, row[col], flags = re.I)"
   ]
  },
  {
   "cell_type": "code",
   "execution_count": 4,
   "metadata": {},
   "outputs": [],
   "source": [
    "weedmaps.phone = weedmaps.apply(lambda row: remove_symbol(row, \"phone\", \"\\(|\\)|-|\\s|\\.|\\+\", \"\"), axis = 1).astype(str)\n",
    "weedmaps.zip_code = weedmaps.zip_code.astype(str)\n",
    "weedmaps.city = weedmaps.city.str.lower()\n",
    "weedmaps = weedmaps.fillna(\"\")"
   ]
  },
  {
   "cell_type": "code",
   "execution_count": 5,
   "metadata": {},
   "outputs": [],
   "source": [
    "weedmaps.to_csv(\"..//data//store_clean.csv\", index = False)"
   ]
  },
  {
   "cell_type": "code",
   "execution_count": null,
   "metadata": {},
   "outputs": [],
   "source": []
  }
 ],
 "metadata": {
  "kernelspec": {
   "display_name": "Python 3",
   "language": "python",
   "name": "python3"
  },
  "language_info": {
   "codemirror_mode": {
    "name": "ipython",
    "version": 3
   },
   "file_extension": ".py",
   "mimetype": "text/x-python",
   "name": "python",
   "nbconvert_exporter": "python",
   "pygments_lexer": "ipython3",
   "version": "3.6.0"
  }
 },
 "nbformat": 4,
 "nbformat_minor": 2
}
