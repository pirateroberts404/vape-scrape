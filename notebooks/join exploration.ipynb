{
 "cells": [
  {
   "cell_type": "code",
   "execution_count": 27,
   "metadata": {
    "collapsed": true
   },
   "outputs": [],
   "source": [
    "import pandas as pd\n",
    "from collections import Counter\n",
    "import numpy as np\n",
    "import glob\n"
   ]
  },
  {
   "cell_type": "code",
   "execution_count": 2,
   "metadata": {
    "collapsed": true
   },
   "outputs": [],
   "source": [
    "licenses = pd.read_csv(\"..//data//searchResults.csv\")\n",
    "weedmaps = pd.read_csv(\"..//data//store.csv\")"
   ]
  },
  {
   "cell_type": "code",
   "execution_count": 3,
   "metadata": {
    "collapsed": true
   },
   "outputs": [],
   "source": [
    "check_cols = [\"adult_use_cultivation\", \"adult_use_nonstorefront\", \n",
    "              \"adult_use_retail\", \"distributor\", \"medical_cultivation\", \n",
    "              \"medical_nonstorefront\", \"medical_retail\", \"microbusiness\"]"
   ]
  },
  {
   "cell_type": "code",
   "execution_count": 4,
   "metadata": {},
   "outputs": [
    {
     "data": {
      "text/plain": [
       "True"
      ]
     },
     "execution_count": 4,
     "metadata": {},
     "output_type": "execute_result"
    }
   ],
   "source": [
    "weedmaps[\"adult_use_cultivation\"].dtype == \"float\"#.str.upper()"
   ]
  },
  {
   "cell_type": "code",
   "execution_count": 6,
   "metadata": {},
   "outputs": [],
   "source": [
    "for col in check_cols:\n",
    "    if weedmaps[col].dtype != \"float\":\n",
    "        weedmaps[col] = weedmaps[col].str.upper()"
   ]
  },
  {
   "cell_type": "code",
   "execution_count": 11,
   "metadata": {},
   "outputs": [
    {
     "data": {
      "text/plain": [
       "Counter({'both': 222, 'left_only': 1276, 'right_only': 3396})"
      ]
     },
     "execution_count": 11,
     "metadata": {},
     "output_type": "execute_result"
    }
   ],
   "source": [
    "merge = pd.merge(weedmaps, \n",
    "                 licenses, \n",
    "                 left_on = 'adult_use_nonstorefront',\n",
    "                 right_on = \"License Number\",\n",
    "                 how = \"outer\",\n",
    "                 indicator = True)\n",
    "Counter(merge['_merge'])"
   ]
  },
  {
   "cell_type": "code",
   "execution_count": 14,
   "metadata": {},
   "outputs": [
    {
     "name": "stdout",
     "output_type": "stream",
     "text": [
      "Counter({'right_only': 3452, 'left_only': 1498}) adult_use_cultivation\n",
      "Counter({'right_only': 3396, 'left_only': 1276, 'both': 222}) adult_use_nonstorefront\n",
      "Counter({'right_only': 3299, 'left_only': 1317, 'both': 181}) adult_use_retail\n",
      "Counter({'right_only': 3451, 'left_only': 1497, 'both': 1}) distributor\n",
      "Counter({'right_only': 3452, 'left_only': 1498}) medical_cultivation\n",
      "Counter({'right_only': 3420, 'left_only': 1389, 'both': 109}) medical_nonstorefront\n",
      "Counter({'right_only': 3382, 'left_only': 1418, 'both': 80}) medical_retail\n",
      "Counter({'right_only': 3436, 'left_only': 1473, 'both': 25}) microbusiness\n"
     ]
    }
   ],
   "source": [
    "for i in check_cols:\n",
    "    try:\n",
    "        merge = pd.merge(weedmaps, \n",
    "                         licenses, \n",
    "                         left_on = i,\n",
    "                         right_on = \"License Number\",\n",
    "                         how = \"outer\",\n",
    "                         indicator = True\n",
    "        )\n",
    "        print(Counter(merge[\"_merge\"]), i)\n",
    "    except:\n",
    "        print(\"failed\", i)"
   ]
  },
  {
   "cell_type": "code",
   "execution_count": 17,
   "metadata": {},
   "outputs": [
    {
     "name": "stdout",
     "output_type": "stream",
     "text": [
      "0 adult_use_cultivation\n",
      "\n",
      "222 adult_use_nonstorefront\n",
      "Cannabis - Retailer Nonstorefront Temporary License 182\n",
      "Cannabis - Retailer Temporary License 40\n",
      "\n",
      "181 adult_use_retail\n",
      "Cannabis - Retailer Temporary License 163\n",
      "Cannabis - Retailer License 6\n",
      "Cannabis - Retailer Nonstorefront Temporary License 7\n",
      "Cannabis - Microbusiness Temporary License 4\n",
      "Cannabis - Distributor Temporary License 1\n",
      "\n",
      "1 distributor\n",
      "Cannabis - Distributor Temporary License 1\n",
      "\n",
      "0 medical_cultivation\n",
      "\n",
      "109 medical_nonstorefront\n",
      "Cannabis - Retailer Nonstorefront Temporary License 104\n",
      "Cannabis - Retailer Temporary License 5\n",
      "\n",
      "80 medical_retail\n",
      "Cannabis - Retailer Temporary License 68\n",
      "Cannabis - Retailer License 6\n",
      "Cannabis - Microbusiness Temporary License 1\n",
      "Cannabis - Retailer Nonstorefront Temporary License 4\n",
      "Cannabis - Distributor Temporary License 1\n",
      "\n",
      "25 microbusiness\n",
      "Cannabis - Microbusiness Temporary License 25\n",
      "\n"
     ]
    }
   ],
   "source": [
    "for i in check_cols:\n",
    "    try:\n",
    "        merge = pd.merge(weedmaps, \n",
    "                         licenses, \n",
    "                         left_on = i,\n",
    "                         right_on = \"License Number\",\n",
    "                         how = \"outer\",\n",
    "                         indicator = True\n",
    "        )\n",
    "        print(Counter(merge[\"_merge\"])[\"both\"], i)\n",
    "        stats = Counter(merge[merge[\"_merge\"] == 'both'][\"License Type\"])\n",
    "        for x in stats:\n",
    "            print(x, stats[x])\n",
    "        print()\n",
    "    except:\n",
    "        print(\"failed\", i)"
   ]
  },
  {
   "cell_type": "code",
   "execution_count": null,
   "metadata": {
    "collapsed": true
   },
   "outputs": [],
   "source": [
    "df = df[~df.datecolumn.isin(a)]"
   ]
  },
  {
   "cell_type": "code",
   "execution_count": 39,
   "metadata": {},
   "outputs": [],
   "source": [
    "adult_use_nonstorefront_join = pd.merge(weedmaps, licenses, left_on = 'adult_use_nonstorefront',\n",
    "                                       right_on = 'License Number', how = 'inner')\n",
    "weedmpas_new = weedmaps[~weedmaps['adult_use_nonstorefront'].isin(adult_use_nonstorefront_join['License Number'])]"
   ]
  },
  {
   "cell_type": "code",
   "execution_count": 64,
   "metadata": {},
   "outputs": [
    {
     "name": "stdout",
     "output_type": "stream",
     "text": [
      "joined: 0  on: adult_use_cultivation\n",
      "joined: 222  on: adult_use_nonstorefront\n",
      "joined: 180  on: adult_use_retail\n",
      "joined: 0  on: distributor\n",
      "joined: 0  on: medical_cultivation\n",
      "joined: 8  on: medical_nonstorefront\n",
      "joined: 36  on: medical_retail\n",
      "joined: 24  on: microbusiness\n"
     ]
    }
   ],
   "source": [
    "'''\n",
    "Creates a new dataframe (weedmaps_joined) which contains the joins of weedmaps stores\n",
    "that had a license number in the licenses dataframe. The license numbers are joined in \n",
    "the order that they appear on check_cols.\n",
    "\n",
    "Create another dataframe (weedmaps_not_joined) which contains all the weedmap stores that\n",
    "had licenses that could not be joined to the licenses dataframe. \n",
    "'''\n",
    "\n",
    "weedmaps_not_joined = weedmaps\n",
    "weedmaps_joined = pd.DataFrame()\n",
    "\n",
    "for i in check_cols:\n",
    "        join_on_i = pd.merge(weedmaps_not_joined, licenses, left_on = i,\n",
    "                            right_on = 'License Number', how = 'inner')\n",
    "        print (\"joined:\", join_on_i.shape[0], ' on:', i)\n",
    "        weedmaps_not_joined = weedmaps_not_joined[~weedmaps_not_joined[i].isin(join_on_i['License Number'])]\n",
    "        weedmaps_joined = pd.concat([weedmaps_joined, join_on_i])\n",
    "\n",
    "weedmaps_not_joined.to_csv('..//data//weedmaps_not_joined.csv')\n",
    "weedmaps_joined.to_csv('..//data//weedmaps_joined.csv')"
   ]
  },
  {
   "cell_type": "code",
   "execution_count": 62,
   "metadata": {},
   "outputs": [
    {
     "data": {
      "text/plain": [
       "470"
      ]
     },
     "execution_count": 62,
     "metadata": {},
     "output_type": "execute_result"
    }
   ],
   "source": [
    "weedmaps_joined.shape[0]"
   ]
  },
  {
   "cell_type": "code",
   "execution_count": 63,
   "metadata": {},
   "outputs": [
    {
     "data": {
      "text/plain": [
       "1028"
      ]
     },
     "execution_count": 63,
     "metadata": {},
     "output_type": "execute_result"
    }
   ],
   "source": [
    "weedmaps_not_joined.shape[0]"
   ]
  }
 ],
 "metadata": {
  "kernelspec": {
   "display_name": "Python 3",
   "language": "python",
   "name": "python3"
  },
  "language_info": {
   "codemirror_mode": {
    "name": "ipython",
    "version": 3
   },
   "file_extension": ".py",
   "mimetype": "text/x-python",
   "name": "python",
   "nbconvert_exporter": "python",
   "pygments_lexer": "ipython3",
   "version": "3.6.3"
  }
 },
 "nbformat": 4,
 "nbformat_minor": 2
}
